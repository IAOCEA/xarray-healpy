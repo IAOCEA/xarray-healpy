{
 "cells": [
  {
   "cell_type": "markdown",
   "id": "91c09108-130a-4a2f-a5ff-1fb670b32397",
   "metadata": {
    "tags": []
   },
   "source": [
    "# regrid the dataset to a healpix grid\n",
    "\n",
    "Since the default geographic rectilinear grid has non-uniform grid sizes and distances and is thus not suitable for this application, we transform the dataset to one with equal distances between the cell centers. The Healpix cells satisfy these conditions, and can be used for spatial convolutions when reshaped to a 2D array according to the \"nested\" cell numbering.\n",
    "\n",
    "As with any interpolation, the linear interpolation supported by the `healpy` library is split into the computation of weights and the application of those weights to the data."
   ]
  },
  {
   "cell_type": "code",
   "execution_count": null,
   "id": "c2316e94-e143-45ad-9da7-b5fd7ad2b76e",
   "metadata": {
    "tags": []
   },
   "outputs": [],
   "source": [
    "import xarray as xr\n",
    "import hvplot.xarray\n",
    "import fsspec\n",
    "import zarr\n",
    "import intake\n",
    "import warnings\n",
    "warnings.filterwarnings(\"ignore\")\n",
    "from xarray_healpy.grid import create_grid\n",
    "from xarray_healpy.regridder import  HealpyRegridder\n"
   ]
  },
  {
   "cell_type": "markdown",
   "id": "7c74a19c-528b-4b08-aaf1-f2a67bfff083",
   "metadata": {},
   "source": [
    "## Define the resolution for healpix"
   ]
  },
  {
   "cell_type": "code",
   "execution_count": null,
   "id": "d32fde80-dab5-4530-b2ac-ababa129a09d",
   "metadata": {
    "editable": true,
    "slideshow": {
     "slide_type": ""
    },
    "tags": [
     "parameters"
    ]
   },
   "outputs": [],
   "source": [
    "#Notebook specification\n",
    "nside = 4096  # healpix resolution\n",
    "# for 0.5km example use\n",
    "#nside = nside*2\n",
    "rot = {\"lat\": 0, \"lon\": 30}\n",
    "\n"
   ]
  },
  {
   "cell_type": "markdown",
   "id": "32902392-8ed2-4e3d-a27e-77cc837fe9ac",
   "metadata": {},
   "source": [
    "## read the data\n",
    "\n",
    "Below, you can try out 1.5km (copernicus marine services) 2.5km (marc, ifremer) and 0.5km (marc, ifremer) data using intake/kerchunk hosted on Ifremer's HPC center (possible to access same data both from HPC and cloud) "
   ]
  },
  {
   "cell_type": "raw",
   "id": "9c06c4cd-3b00-42c3-9a0e-0d3e928f95bd",
   "metadata": {
    "tags": []
   },
   "source": [
    "#Example using copernicus (NORTHWESTSHELF_ANALYSIS_FORECAST_PHY_004_01)\n",
    "catalog = \"https://data-taos.ifremer.fr/kerchunk/ref-copernicus.yaml\"\n",
    "\n",
    "cat = intake.open_catalog(catalog)\n",
    "#ds = cat.data(type=\"TEM\").to_dask().rename({\"thetao\": \"TEMP\"})[[\"TEMP\"]]\n",
    "#ds = cat.data(type=\"SSH\").to_dask().zos.to_dataset(name='XE')\n",
    "ds = cat.data_tmp(type=\"mdt\").to_dask().deptho.rename({\"latitude\": \"lat\", \"longitude\": \"lon\"}).to_dataset(name='H0')\n",
    "ds\n",
    "reference_model_=ds\n",
    "(broadcasted,) = xr.broadcast(\n",
    "    reference_model_[[\"lat\", \"lon\"]]\n",
    "    .reset_index([\"lat\", \"lon\"])\n",
    "    .rename_vars({\"lat\": \"latitude\", \"lon\": \"longitude\"})\n",
    "    .reset_coords()\n",
    ")\n",
    "ds = reference_model_.merge(broadcasted).set_coords(\n",
    "    [\"latitude\", \"longitude\"]\n",
    ").compute()\n",
    "ds"
   ]
  },
  {
   "cell_type": "code",
   "execution_count": null,
   "id": "81f08aed-3bc1-4071-97a1-fbe244408381",
   "metadata": {
    "tags": []
   },
   "outputs": [],
   "source": [
    "#Example using MARC multi resolution. (2.5km / 0.5km)\n",
    "\n",
    "catalog = \"https://data-taos.ifremer.fr/kerchunk/ref-marc.yaml\"\n",
    "cat = intake.open_catalog(catalog)[\"marc\"]\n",
    "#2.5km without zoom(=agrif)\n",
    "catalog_parameters: dict = {\"region\": \"f1_e2500\", \"year\": \"2017\"}\n",
    "#0.5km\n",
    "catalog_parameters: dict = {\"region\": \"f1_e2500_agrif/MARC_F1-MARS3D-FINIS\", \"year\": \"2017\"}\n",
    "#2.5km\n",
    "catalog_parameters: dict = {\"region\": \"f1_e2500_agrif/MARC_F1-MARS3D-MANGAE2500-AGRIF\", \"year\": \"2017\"}\n",
    "\n",
    "catalog_kwargs = {\n",
    "    \"chunks\": {\"ni\": -1, \"nj\": -1,  \"time\": 1},\n",
    "    \"inline_array\": True,\n",
    "}\n",
    "ds = (\n",
    "    cat(**catalog_kwargs, **catalog_parameters)\n",
    "    .to_dask()[[\"H0\" ,\"XE\",]]\n",
    "    .assign_coords(time=lambda ds: ds.time.astype(\"datetime64[ns]\"))\n",
    ")\n",
    "ds=ds[[\"H0\"]]\n",
    "ds"
   ]
  },
  {
   "cell_type": "raw",
   "id": "d329c456-0e8b-4724-a391-a5900c40e134",
   "metadata": {
    "tags": []
   },
   "source": [
    "## Use interpolate before projection for coastal area....\n",
    "max_gap=2\n",
    "limit=1\n",
    "method='nearest'\n",
    "ds=ds.interpolate_na(dim=\"lon\",method=method,limit=limit,max_gap=max_gap).interpolate_na(dim=\"lat\",method=method,limit=limit,max_gap=max_gap)#, fill_value=\"extrapolate\")\n"
   ]
  },
  {
   "cell_type": "markdown",
   "id": "df6fcd12-b268-45df-b259-cd02ef3aa469",
   "metadata": {},
   "source": [
    "## define the target grid"
   ]
  },
  {
   "cell_type": "code",
   "execution_count": null,
   "id": "ee7cbcfc-810c-4f93-a713-7a15f34666be",
   "metadata": {
    "tags": []
   },
   "outputs": [],
   "source": [
    "%%time\n",
    "grid = create_grid(nside=nside, rot=rot)\n",
    "grid"
   ]
  },
  {
   "cell_type": "markdown",
   "id": "ae32fbef-a0d1-40eb-bc67-4731d748e3cc",
   "metadata": {},
   "source": [
    "## compute the weights"
   ]
  },
  {
   "cell_type": "code",
   "execution_count": null,
   "id": "ccc2b29a-2cbe-4e87-b7dc-5b9ce4319989",
   "metadata": {
    "tags": []
   },
   "outputs": [],
   "source": [
    "%%time\n",
    "regridder = HealpyRegridder(ds, grid)"
   ]
  },
  {
   "cell_type": "markdown",
   "id": "87a78c0f-6cc8-484e-b963-d1ad0aefb6e3",
   "metadata": {},
   "source": [
    "## apply the weights"
   ]
  },
  {
   "cell_type": "code",
   "execution_count": null,
   "id": "cffef897-8975-4df2-98d3-cd5381af1f06",
   "metadata": {
    "tags": []
   },
   "outputs": [],
   "source": [
    "%%time\n",
    "regridded = regridder.regrid_ds(ds).compute()\n",
    "regridded"
   ]
  },
  {
   "cell_type": "code",
   "execution_count": null,
   "id": "3ab9106f-d100-4ff4-98c9-b2ffd5f4d9d9",
   "metadata": {
    "tags": []
   },
   "outputs": [],
   "source": [
    "regridded.H0.plot(    x=\"longitude\",y=\"latitude\")"
   ]
  },
  {
   "cell_type": "code",
   "execution_count": null,
   "id": "9db71d39-ad4f-494e-b58b-3c5fa4da33fe",
   "metadata": {
    "tags": []
   },
   "outputs": [],
   "source": [
    "ds.H0.plot(    x=\"longitude\",y=\"latitude\"  )"
   ]
  },
  {
   "cell_type": "markdown",
   "id": "84acf20c-8508-48af-a742-42b2f8bb4165",
   "metadata": {
    "jp-MarkdownHeadingCollapsed": true,
    "tags": []
   },
   "source": [
    "## select area for plotting.\n",
    "We chose around ouessant island"
   ]
  },
  {
   "cell_type": "code",
   "execution_count": null,
   "id": "0424035d-640f-4e60-b54d-0f08358df4b2",
   "metadata": {
    "tags": []
   },
   "outputs": [],
   "source": [
    "subset: dict = {\n",
    "    \"lat_min\": 48.35,\n",
    "    \"lat_max\": 48.55,\n",
    "    \"lon_min\": -5.25,\n",
    "    \"lon_max\": -4.95,\n",
    "    \"depth_min\": -100,\n",
    "    \"depth_max\": 0,\n",
    "}\n",
    "cmap = \"ocean\""
   ]
  },
  {
   "cell_type": "markdown",
   "id": "83f228f3-33e5-4c15-a035-f5e38cf9cbd4",
   "metadata": {},
   "source": [
    "## Plot original grid and new grid side-by-side\n",
    "If too slow change coastline 10m to 110m "
   ]
  },
  {
   "cell_type": "code",
   "execution_count": null,
   "id": "3ffcff59-dab6-498e-94cb-50a31701b38f",
   "metadata": {
    "tags": []
   },
   "outputs": [],
   "source": [
    "(-ds.H0).hvplot.quadmesh(    x=\"longitude\",\n",
    "    y=\"latitude\",\n",
    "    geo=True,\n",
    "    coastline=\"10m\",\n",
    "    xlim=(subset[\"lon_min\"], subset[\"lon_max\"]),\n",
    "    ylim=(subset[\"lat_min\"], subset[\"lat_max\"]),\n",
    "    clim=((subset[\"depth_min\"], subset[\"depth_max\"])),\n",
    "    cmap=cmap,  title='original grid', rasterize=True\n",
    ")+(-regridded.H0).hvplot.quadmesh(    x=\"longitude\",\n",
    "    y=\"latitude\",\n",
    "    geo=True,\n",
    "    coastline=\"10m\",\n",
    "    xlim=(subset[\"lon_min\"], subset[\"lon_max\"]),\n",
    "    ylim=(subset[\"lat_min\"], subset[\"lat_max\"]),\n",
    "    clim=((subset[\"depth_min\"], subset[\"depth_max\"])),\n",
    "    cmap=cmap,  title='healpix projected grid',rasterize=True\n",
    ")"
   ]
  },
  {
   "cell_type": "markdown",
   "id": "20e6d3a7-5e12-4858-ae27-a0eaec16a32a",
   "metadata": {},
   "source": [
    "## compute and save to disk"
   ]
  },
  {
   "cell_type": "raw",
   "id": "4dd1aa28-4e39-4558-ba4c-c340d0453165",
   "metadata": {
    "tags": []
   },
   "source": [
    "%%time\n",
    "regridded.to_zarr('./test.zarr', mode=\"w\", consolidated=True, compute=True)"
   ]
  },
  {
   "cell_type": "markdown",
   "id": "ce5c4d6d-71f3-4066-85c8-d3b622883b68",
   "metadata": {},
   "source": [
    "## visualize the results"
   ]
  },
  {
   "cell_type": "raw",
   "id": "6a429c2c-d3ae-4949-bb74-5e68fc592e6c",
   "metadata": {
    "tags": []
   },
   "source": [
    "regridded_ = xr.open_dataset(output_path, engine=\"zarr\", chunks={})\n",
    "regridded_"
   ]
  },
  {
   "cell_type": "raw",
   "id": "d3c8e0ec-6982-4c0e-94f9-5c58408c4bc0",
   "metadata": {},
   "source": [
    "regridded_[\"diff\"].isel(time=0).plot(x=\"longitude\", y=\"latitude\")"
   ]
  },
  {
   "cell_type": "code",
   "execution_count": null,
   "id": "862e2736-c000-4bf6-a05e-6f51af2def45",
   "metadata": {},
   "outputs": [],
   "source": []
  }
 ],
 "metadata": {
  "kernelspec": {
   "display_name": "xarray-healpy-test",
   "language": "python",
   "name": "xarray-healpy-test"
  },
  "language_info": {
   "codemirror_mode": {
    "name": "ipython",
    "version": 3
   },
   "file_extension": ".py",
   "mimetype": "text/x-python",
   "name": "python",
   "nbconvert_exporter": "python",
   "pygments_lexer": "ipython3",
   "version": "3.10.13"
  }
 },
 "nbformat": 4,
 "nbformat_minor": 5
}
