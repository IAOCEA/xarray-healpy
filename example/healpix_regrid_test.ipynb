{
 "cells": [
  {
   "cell_type": "markdown",
   "id": "91c09108-130a-4a2f-a5ff-1fb670b32397",
   "metadata": {
    "tags": []
   },
   "source": [
    "# regrid the dataset to a healpix grid\n",
    "\n",
    "Since the default geographic rectilinear grid has non-uniform grid sizes and distances and is thus not suitable for this application, we transform the dataset to one with equal distances between the cell centers. The Healpix cells satisfy these conditions, and can be used for spatial convolutions when reshaped to a 2D array according to the \"nested\" cell numbering.\n",
    "\n",
    "As with any interpolation, the linear interpolation supported by the `healpy` library is split into the computation of weights and the application of those weights to the data."
   ]
  },
  {
   "cell_type": "code",
   "execution_count": 1,
   "id": "c2316e94-e143-45ad-9da7-b5fd7ad2b76e",
   "metadata": {
    "tags": []
   },
   "outputs": [],
   "source": [
    "import xarray as xr\n",
    "#import hvplot.xarray\n",
    "#import numpy as np\n",
    "#import fsspec\n",
    "\n",
    "#import warnings\n",
    "\n",
    "#warnings.filterwarnings(\"ignore\")\n",
    "from xarray_healpy.grid import HealpyGridInfo\n",
    "from xarray_healpy.regridder import HealpyRegridder"
   ]
  },
  {
   "cell_type": "code",
   "execution_count": 2,
   "id": "c15baa2e-bc69-4939-95d0-0f028244bc86",
   "metadata": {},
   "outputs": [],
   "source": [
    "import xarray as xr\n",
    "ds=xr.open_zarr(\n",
    "    'https://data-taos.ifremer.fr/fish-intel/bugfixed_0/A19124/diff.zarr')\n",
    "ds = (\n",
    "    ds\n",
    "#    .pipe(lambda ds: ds.merge(ds[[\"latitude\", \"longitude\"]].compute()))\n",
    "    .swap_dims({\"lat\": \"yi\", \"lon\": \"xi\"})\n",
    "    .drop_vars([\"lat\", \"lon\"])[[\"H0\",\"ocean_mask\"]]\n",
    ").compute()"
   ]
  },
  {
   "cell_type": "code",
   "execution_count": 3,
   "id": "facdd90d-23ef-46ec-b579-dce961554c52",
   "metadata": {
    "scrolled": true
   },
   "outputs": [
    {
     "data": {
      "text/html": [
       "<div><svg style=\"position: absolute; width: 0; height: 0; overflow: hidden\">\n",
       "<defs>\n",
       "<symbol id=\"icon-database\" viewBox=\"0 0 32 32\">\n",
       "<path d=\"M16 0c-8.837 0-16 2.239-16 5v4c0 2.761 7.163 5 16 5s16-2.239 16-5v-4c0-2.761-7.163-5-16-5z\"></path>\n",
       "<path d=\"M16 17c-8.837 0-16-2.239-16-5v6c0 2.761 7.163 5 16 5s16-2.239 16-5v-6c0 2.761-7.163 5-16 5z\"></path>\n",
       "<path d=\"M16 26c-8.837 0-16-2.239-16-5v6c0 2.761 7.163 5 16 5s16-2.239 16-5v-6c0 2.761-7.163 5-16 5z\"></path>\n",
       "</symbol>\n",
       "<symbol id=\"icon-file-text2\" viewBox=\"0 0 32 32\">\n",
       "<path d=\"M28.681 7.159c-0.694-0.947-1.662-2.053-2.724-3.116s-2.169-2.030-3.116-2.724c-1.612-1.182-2.393-1.319-2.841-1.319h-15.5c-1.378 0-2.5 1.121-2.5 2.5v27c0 1.378 1.122 2.5 2.5 2.5h23c1.378 0 2.5-1.122 2.5-2.5v-19.5c0-0.448-0.137-1.23-1.319-2.841zM24.543 5.457c0.959 0.959 1.712 1.825 2.268 2.543h-4.811v-4.811c0.718 0.556 1.584 1.309 2.543 2.268zM28 29.5c0 0.271-0.229 0.5-0.5 0.5h-23c-0.271 0-0.5-0.229-0.5-0.5v-27c0-0.271 0.229-0.5 0.5-0.5 0 0 15.499-0 15.5 0v7c0 0.552 0.448 1 1 1h7v19.5z\"></path>\n",
       "<path d=\"M23 26h-14c-0.552 0-1-0.448-1-1s0.448-1 1-1h14c0.552 0 1 0.448 1 1s-0.448 1-1 1z\"></path>\n",
       "<path d=\"M23 22h-14c-0.552 0-1-0.448-1-1s0.448-1 1-1h14c0.552 0 1 0.448 1 1s-0.448 1-1 1z\"></path>\n",
       "<path d=\"M23 18h-14c-0.552 0-1-0.448-1-1s0.448-1 1-1h14c0.552 0 1 0.448 1 1s-0.448 1-1 1z\"></path>\n",
       "</symbol>\n",
       "</defs>\n",
       "</svg>\n",
       "<style>/* CSS stylesheet for displaying xarray objects in jupyterlab.\n",
       " *\n",
       " */\n",
       "\n",
       ":root {\n",
       "  --xr-font-color0: var(--jp-content-font-color0, rgba(0, 0, 0, 1));\n",
       "  --xr-font-color2: var(--jp-content-font-color2, rgba(0, 0, 0, 0.54));\n",
       "  --xr-font-color3: var(--jp-content-font-color3, rgba(0, 0, 0, 0.38));\n",
       "  --xr-border-color: var(--jp-border-color2, #e0e0e0);\n",
       "  --xr-disabled-color: var(--jp-layout-color3, #bdbdbd);\n",
       "  --xr-background-color: var(--jp-layout-color0, white);\n",
       "  --xr-background-color-row-even: var(--jp-layout-color1, white);\n",
       "  --xr-background-color-row-odd: var(--jp-layout-color2, #eeeeee);\n",
       "}\n",
       "\n",
       "html[theme=dark],\n",
       "body[data-theme=dark],\n",
       "body.vscode-dark {\n",
       "  --xr-font-color0: rgba(255, 255, 255, 1);\n",
       "  --xr-font-color2: rgba(255, 255, 255, 0.54);\n",
       "  --xr-font-color3: rgba(255, 255, 255, 0.38);\n",
       "  --xr-border-color: #1F1F1F;\n",
       "  --xr-disabled-color: #515151;\n",
       "  --xr-background-color: #111111;\n",
       "  --xr-background-color-row-even: #111111;\n",
       "  --xr-background-color-row-odd: #313131;\n",
       "}\n",
       "\n",
       ".xr-wrap {\n",
       "  display: block !important;\n",
       "  min-width: 300px;\n",
       "  max-width: 700px;\n",
       "}\n",
       "\n",
       ".xr-text-repr-fallback {\n",
       "  /* fallback to plain text repr when CSS is not injected (untrusted notebook) */\n",
       "  display: none;\n",
       "}\n",
       "\n",
       ".xr-header {\n",
       "  padding-top: 6px;\n",
       "  padding-bottom: 6px;\n",
       "  margin-bottom: 4px;\n",
       "  border-bottom: solid 1px var(--xr-border-color);\n",
       "}\n",
       "\n",
       ".xr-header > div,\n",
       ".xr-header > ul {\n",
       "  display: inline;\n",
       "  margin-top: 0;\n",
       "  margin-bottom: 0;\n",
       "}\n",
       "\n",
       ".xr-obj-type,\n",
       ".xr-array-name {\n",
       "  margin-left: 2px;\n",
       "  margin-right: 10px;\n",
       "}\n",
       "\n",
       ".xr-obj-type {\n",
       "  color: var(--xr-font-color2);\n",
       "}\n",
       "\n",
       ".xr-sections {\n",
       "  padding-left: 0 !important;\n",
       "  display: grid;\n",
       "  grid-template-columns: 150px auto auto 1fr 20px 20px;\n",
       "}\n",
       "\n",
       ".xr-section-item {\n",
       "  display: contents;\n",
       "}\n",
       "\n",
       ".xr-section-item input {\n",
       "  display: none;\n",
       "}\n",
       "\n",
       ".xr-section-item input + label {\n",
       "  color: var(--xr-disabled-color);\n",
       "}\n",
       "\n",
       ".xr-section-item input:enabled + label {\n",
       "  cursor: pointer;\n",
       "  color: var(--xr-font-color2);\n",
       "}\n",
       "\n",
       ".xr-section-item input:enabled + label:hover {\n",
       "  color: var(--xr-font-color0);\n",
       "}\n",
       "\n",
       ".xr-section-summary {\n",
       "  grid-column: 1;\n",
       "  color: var(--xr-font-color2);\n",
       "  font-weight: 500;\n",
       "}\n",
       "\n",
       ".xr-section-summary > span {\n",
       "  display: inline-block;\n",
       "  padding-left: 0.5em;\n",
       "}\n",
       "\n",
       ".xr-section-summary-in:disabled + label {\n",
       "  color: var(--xr-font-color2);\n",
       "}\n",
       "\n",
       ".xr-section-summary-in + label:before {\n",
       "  display: inline-block;\n",
       "  content: '►';\n",
       "  font-size: 11px;\n",
       "  width: 15px;\n",
       "  text-align: center;\n",
       "}\n",
       "\n",
       ".xr-section-summary-in:disabled + label:before {\n",
       "  color: var(--xr-disabled-color);\n",
       "}\n",
       "\n",
       ".xr-section-summary-in:checked + label:before {\n",
       "  content: '▼';\n",
       "}\n",
       "\n",
       ".xr-section-summary-in:checked + label > span {\n",
       "  display: none;\n",
       "}\n",
       "\n",
       ".xr-section-summary,\n",
       ".xr-section-inline-details {\n",
       "  padding-top: 4px;\n",
       "  padding-bottom: 4px;\n",
       "}\n",
       "\n",
       ".xr-section-inline-details {\n",
       "  grid-column: 2 / -1;\n",
       "}\n",
       "\n",
       ".xr-section-details {\n",
       "  display: none;\n",
       "  grid-column: 1 / -1;\n",
       "  margin-bottom: 5px;\n",
       "}\n",
       "\n",
       ".xr-section-summary-in:checked ~ .xr-section-details {\n",
       "  display: contents;\n",
       "}\n",
       "\n",
       ".xr-array-wrap {\n",
       "  grid-column: 1 / -1;\n",
       "  display: grid;\n",
       "  grid-template-columns: 20px auto;\n",
       "}\n",
       "\n",
       ".xr-array-wrap > label {\n",
       "  grid-column: 1;\n",
       "  vertical-align: top;\n",
       "}\n",
       "\n",
       ".xr-preview {\n",
       "  color: var(--xr-font-color3);\n",
       "}\n",
       "\n",
       ".xr-array-preview,\n",
       ".xr-array-data {\n",
       "  padding: 0 5px !important;\n",
       "  grid-column: 2;\n",
       "}\n",
       "\n",
       ".xr-array-data,\n",
       ".xr-array-in:checked ~ .xr-array-preview {\n",
       "  display: none;\n",
       "}\n",
       "\n",
       ".xr-array-in:checked ~ .xr-array-data,\n",
       ".xr-array-preview {\n",
       "  display: inline-block;\n",
       "}\n",
       "\n",
       ".xr-dim-list {\n",
       "  display: inline-block !important;\n",
       "  list-style: none;\n",
       "  padding: 0 !important;\n",
       "  margin: 0;\n",
       "}\n",
       "\n",
       ".xr-dim-list li {\n",
       "  display: inline-block;\n",
       "  padding: 0;\n",
       "  margin: 0;\n",
       "}\n",
       "\n",
       ".xr-dim-list:before {\n",
       "  content: '(';\n",
       "}\n",
       "\n",
       ".xr-dim-list:after {\n",
       "  content: ')';\n",
       "}\n",
       "\n",
       ".xr-dim-list li:not(:last-child):after {\n",
       "  content: ',';\n",
       "  padding-right: 5px;\n",
       "}\n",
       "\n",
       ".xr-has-index {\n",
       "  font-weight: bold;\n",
       "}\n",
       "\n",
       ".xr-var-list,\n",
       ".xr-var-item {\n",
       "  display: contents;\n",
       "}\n",
       "\n",
       ".xr-var-item > div,\n",
       ".xr-var-item label,\n",
       ".xr-var-item > .xr-var-name span {\n",
       "  background-color: var(--xr-background-color-row-even);\n",
       "  margin-bottom: 0;\n",
       "}\n",
       "\n",
       ".xr-var-item > .xr-var-name:hover span {\n",
       "  padding-right: 5px;\n",
       "}\n",
       "\n",
       ".xr-var-list > li:nth-child(odd) > div,\n",
       ".xr-var-list > li:nth-child(odd) > label,\n",
       ".xr-var-list > li:nth-child(odd) > .xr-var-name span {\n",
       "  background-color: var(--xr-background-color-row-odd);\n",
       "}\n",
       "\n",
       ".xr-var-name {\n",
       "  grid-column: 1;\n",
       "}\n",
       "\n",
       ".xr-var-dims {\n",
       "  grid-column: 2;\n",
       "}\n",
       "\n",
       ".xr-var-dtype {\n",
       "  grid-column: 3;\n",
       "  text-align: right;\n",
       "  color: var(--xr-font-color2);\n",
       "}\n",
       "\n",
       ".xr-var-preview {\n",
       "  grid-column: 4;\n",
       "}\n",
       "\n",
       ".xr-index-preview {\n",
       "  grid-column: 2 / 5;\n",
       "  color: var(--xr-font-color2);\n",
       "}\n",
       "\n",
       ".xr-var-name,\n",
       ".xr-var-dims,\n",
       ".xr-var-dtype,\n",
       ".xr-preview,\n",
       ".xr-attrs dt {\n",
       "  white-space: nowrap;\n",
       "  overflow: hidden;\n",
       "  text-overflow: ellipsis;\n",
       "  padding-right: 10px;\n",
       "}\n",
       "\n",
       ".xr-var-name:hover,\n",
       ".xr-var-dims:hover,\n",
       ".xr-var-dtype:hover,\n",
       ".xr-attrs dt:hover {\n",
       "  overflow: visible;\n",
       "  width: auto;\n",
       "  z-index: 1;\n",
       "}\n",
       "\n",
       ".xr-var-attrs,\n",
       ".xr-var-data,\n",
       ".xr-index-data {\n",
       "  display: none;\n",
       "  background-color: var(--xr-background-color) !important;\n",
       "  padding-bottom: 5px !important;\n",
       "}\n",
       "\n",
       ".xr-var-attrs-in:checked ~ .xr-var-attrs,\n",
       ".xr-var-data-in:checked ~ .xr-var-data,\n",
       ".xr-index-data-in:checked ~ .xr-index-data {\n",
       "  display: block;\n",
       "}\n",
       "\n",
       ".xr-var-data > table {\n",
       "  float: right;\n",
       "}\n",
       "\n",
       ".xr-var-name span,\n",
       ".xr-var-data,\n",
       ".xr-index-name div,\n",
       ".xr-index-data,\n",
       ".xr-attrs {\n",
       "  padding-left: 25px !important;\n",
       "}\n",
       "\n",
       ".xr-attrs,\n",
       ".xr-var-attrs,\n",
       ".xr-var-data,\n",
       ".xr-index-data {\n",
       "  grid-column: 1 / -1;\n",
       "}\n",
       "\n",
       "dl.xr-attrs {\n",
       "  padding: 0;\n",
       "  margin: 0;\n",
       "  display: grid;\n",
       "  grid-template-columns: 125px auto;\n",
       "}\n",
       "\n",
       ".xr-attrs dt,\n",
       ".xr-attrs dd {\n",
       "  padding: 0;\n",
       "  margin: 0;\n",
       "  float: left;\n",
       "  padding-right: 10px;\n",
       "  width: auto;\n",
       "}\n",
       "\n",
       ".xr-attrs dt {\n",
       "  font-weight: normal;\n",
       "  grid-column: 1;\n",
       "}\n",
       "\n",
       ".xr-attrs dt:hover span {\n",
       "  display: inline-block;\n",
       "  background: var(--xr-background-color);\n",
       "  padding-right: 10px;\n",
       "}\n",
       "\n",
       ".xr-attrs dd {\n",
       "  grid-column: 2;\n",
       "  white-space: pre-wrap;\n",
       "  word-break: break-all;\n",
       "}\n",
       "\n",
       ".xr-icon-database,\n",
       ".xr-icon-file-text2,\n",
       ".xr-no-icon {\n",
       "  display: inline-block;\n",
       "  vertical-align: middle;\n",
       "  width: 1em;\n",
       "  height: 1.5em !important;\n",
       "  stroke-width: 0;\n",
       "  stroke: currentColor;\n",
       "  fill: currentColor;\n",
       "}\n",
       "</style><pre class='xr-text-repr-fallback'>&lt;xarray.Dataset&gt;\n",
       "Dimensions:     (yi: 371, xi: 231)\n",
       "Coordinates:\n",
       "    latitude    (yi, xi) float32 46.0 46.0 46.0 46.0 ... 51.0 51.0 51.0 51.0\n",
       "    longitude   (yi, xi) float32 -8.0 -7.97 -7.939 ... -1.091 -1.061 -1.03\n",
       "Dimensions without coordinates: yi, xi\n",
       "Data variables:\n",
       "    H0          (yi, xi) float32 4.849e+03 4.846e+03 4.842e+03 ... nan nan nan\n",
       "    ocean_mask  (yi, xi) bool True True True True ... False False False False\n",
       "Attributes:\n",
       "    tag_id:   A19124</pre><div class='xr-wrap' style='display:none'><div class='xr-header'><div class='xr-obj-type'>xarray.Dataset</div></div><ul class='xr-sections'><li class='xr-section-item'><input id='section-e71b6a34-667d-43da-b092-c570c69c2c38' class='xr-section-summary-in' type='checkbox' disabled ><label for='section-e71b6a34-667d-43da-b092-c570c69c2c38' class='xr-section-summary'  title='Expand/collapse section'>Dimensions:</label><div class='xr-section-inline-details'><ul class='xr-dim-list'><li><span>yi</span>: 371</li><li><span>xi</span>: 231</li></ul></div><div class='xr-section-details'></div></li><li class='xr-section-item'><input id='section-aa78ee76-9afd-49b3-a738-708a780fe587' class='xr-section-summary-in' type='checkbox'  checked><label for='section-aa78ee76-9afd-49b3-a738-708a780fe587' class='xr-section-summary' >Coordinates: <span>(2)</span></label><div class='xr-section-inline-details'></div><div class='xr-section-details'><ul class='xr-var-list'><li class='xr-var-item'><div class='xr-var-name'><span>latitude</span></div><div class='xr-var-dims'>(yi, xi)</div><div class='xr-var-dtype'>float32</div><div class='xr-var-preview xr-preview'>46.0 46.0 46.0 ... 51.0 51.0 51.0</div><input id='attrs-6ff71870-2431-41e8-83d9-cedd6f1ea134' class='xr-var-attrs-in' type='checkbox' disabled><label for='attrs-6ff71870-2431-41e8-83d9-cedd6f1ea134' title='Show/Hide attributes'><svg class='icon xr-icon-file-text2'><use xlink:href='#icon-file-text2'></use></svg></label><input id='data-2f05a9d5-fcae-418d-91ef-4526a10a6a88' class='xr-var-data-in' type='checkbox'><label for='data-2f05a9d5-fcae-418d-91ef-4526a10a6a88' title='Show/Hide data repr'><svg class='icon xr-icon-database'><use xlink:href='#icon-database'></use></svg></label><div class='xr-var-attrs'><dl class='xr-attrs'></dl></div><div class='xr-var-data'><pre>array([[46.     , 46.     , 46.     , ..., 46.     , 46.     , 46.     ],\n",
       "       [46.01351, 46.01351, 46.01351, ..., 46.01351, 46.01351, 46.01351],\n",
       "       [46.02703, 46.02703, 46.02703, ..., 46.02703, 46.02703, 46.02703],\n",
       "       ...,\n",
       "       [50.97297, 50.97297, 50.97297, ..., 50.97297, 50.97297, 50.97297],\n",
       "       [50.98649, 50.98649, 50.98649, ..., 50.98649, 50.98649, 50.98649],\n",
       "       [51.     , 51.     , 51.     , ..., 51.     , 51.     , 51.     ]],\n",
       "      dtype=float32)</pre></div></li><li class='xr-var-item'><div class='xr-var-name'><span>longitude</span></div><div class='xr-var-dims'>(yi, xi)</div><div class='xr-var-dtype'>float32</div><div class='xr-var-preview xr-preview'>-8.0 -7.97 -7.939 ... -1.061 -1.03</div><input id='attrs-6d7139a7-c95e-4e27-88a8-9c2c7c10699c' class='xr-var-attrs-in' type='checkbox' disabled><label for='attrs-6d7139a7-c95e-4e27-88a8-9c2c7c10699c' title='Show/Hide attributes'><svg class='icon xr-icon-file-text2'><use xlink:href='#icon-file-text2'></use></svg></label><input id='data-22e21024-1d9f-4fd7-a704-6fc905fa40a1' class='xr-var-data-in' type='checkbox'><label for='data-22e21024-1d9f-4fd7-a704-6fc905fa40a1' title='Show/Hide data repr'><svg class='icon xr-icon-database'><use xlink:href='#icon-database'></use></svg></label><div class='xr-var-attrs'><dl class='xr-attrs'></dl></div><div class='xr-var-data'><pre>array([[-8.      , -7.969697, -7.939394, ..., -1.090909, -1.060606,\n",
       "        -1.030303],\n",
       "       [-8.      , -7.969697, -7.939394, ..., -1.090909, -1.060606,\n",
       "        -1.030303],\n",
       "       [-8.      , -7.969697, -7.939394, ..., -1.090909, -1.060606,\n",
       "        -1.030303],\n",
       "       ...,\n",
       "       [-8.      , -7.969697, -7.939394, ..., -1.090909, -1.060606,\n",
       "        -1.030303],\n",
       "       [-8.      , -7.969697, -7.939394, ..., -1.090909, -1.060606,\n",
       "        -1.030303],\n",
       "       [-8.      , -7.969697, -7.939394, ..., -1.090909, -1.060606,\n",
       "        -1.030303]], dtype=float32)</pre></div></li></ul></div></li><li class='xr-section-item'><input id='section-717e60cc-f21b-44fe-b7bf-120668c4da3e' class='xr-section-summary-in' type='checkbox'  checked><label for='section-717e60cc-f21b-44fe-b7bf-120668c4da3e' class='xr-section-summary' >Data variables: <span>(2)</span></label><div class='xr-section-inline-details'></div><div class='xr-section-details'><ul class='xr-var-list'><li class='xr-var-item'><div class='xr-var-name'><span>H0</span></div><div class='xr-var-dims'>(yi, xi)</div><div class='xr-var-dtype'>float32</div><div class='xr-var-preview xr-preview'>4.849e+03 4.846e+03 ... nan nan</div><input id='attrs-8191b08a-2db7-4be6-a073-d1c97471d5c6' class='xr-var-attrs-in' type='checkbox' ><label for='attrs-8191b08a-2db7-4be6-a073-d1c97471d5c6' title='Show/Hide attributes'><svg class='icon xr-icon-file-text2'><use xlink:href='#icon-file-text2'></use></svg></label><input id='data-282e236e-75da-455e-8c84-afc7f96aa8d0' class='xr-var-data-in' type='checkbox'><label for='data-282e236e-75da-455e-8c84-afc7f96aa8d0' title='Show/Hide data repr'><svg class='icon xr-icon-database'><use xlink:href='#icon-database'></use></svg></label><div class='xr-var-attrs'><dl class='xr-attrs'><dt><span>long_name :</span></dt><dd>Bathymetry</dd><dt><span>standard_name :</span></dt><dd>sea_floor_depth_below_geoid</dd><dt><span>units :</span></dt><dd>m</dd></dl></div><div class='xr-var-data'><pre>array([[4.84876221e+03, 4.84588818e+03, 4.84226367e+03, ...,\n",
       "        6.23228014e-01,            nan,            nan],\n",
       "       [4.84771094e+03, 4.84583643e+03, 4.83647168e+03, ...,\n",
       "        1.44329369e+00, 2.30075002e+00,            nan],\n",
       "       [4.83539111e+03, 4.83428955e+03, 4.83171240e+03, ...,\n",
       "        2.14124894e+00, 2.55099916e+00,            nan],\n",
       "       ...,\n",
       "       [1.02711922e+02, 1.01904152e+02, 1.02931587e+02, ...,\n",
       "                   nan,            nan,            nan],\n",
       "       [1.00587105e+02, 1.00405258e+02, 1.00594193e+02, ...,\n",
       "                   nan,            nan,            nan],\n",
       "       [9.89322891e+01, 9.86965256e+01, 9.74388351e+01, ...,\n",
       "                   nan,            nan,            nan]], dtype=float32)</pre></div></li><li class='xr-var-item'><div class='xr-var-name'><span>ocean_mask</span></div><div class='xr-var-dims'>(yi, xi)</div><div class='xr-var-dtype'>bool</div><div class='xr-var-preview xr-preview'>True True True ... False False</div><input id='attrs-9e964917-ab52-4a2b-bbd2-f53c16c1345a' class='xr-var-attrs-in' type='checkbox' disabled><label for='attrs-9e964917-ab52-4a2b-bbd2-f53c16c1345a' title='Show/Hide attributes'><svg class='icon xr-icon-file-text2'><use xlink:href='#icon-file-text2'></use></svg></label><input id='data-5bbf04f1-5183-4690-b862-cb4195665348' class='xr-var-data-in' type='checkbox'><label for='data-5bbf04f1-5183-4690-b862-cb4195665348' title='Show/Hide data repr'><svg class='icon xr-icon-database'><use xlink:href='#icon-database'></use></svg></label><div class='xr-var-attrs'><dl class='xr-attrs'></dl></div><div class='xr-var-data'><pre>array([[ True,  True,  True, ...,  True, False, False],\n",
       "       [ True,  True,  True, ...,  True,  True, False],\n",
       "       [ True,  True,  True, ...,  True,  True, False],\n",
       "       ...,\n",
       "       [ True,  True,  True, ..., False, False, False],\n",
       "       [ True,  True,  True, ..., False, False, False],\n",
       "       [ True,  True,  True, ..., False, False, False]])</pre></div></li></ul></div></li><li class='xr-section-item'><input id='section-cc0f50d5-dc5b-4717-9d0f-7bea26493c48' class='xr-section-summary-in' type='checkbox' disabled ><label for='section-cc0f50d5-dc5b-4717-9d0f-7bea26493c48' class='xr-section-summary'  title='Expand/collapse section'>Indexes: <span>(0)</span></label><div class='xr-section-inline-details'></div><div class='xr-section-details'><ul class='xr-var-list'></ul></div></li><li class='xr-section-item'><input id='section-a06590eb-3d99-4010-ac76-94ce8a428b74' class='xr-section-summary-in' type='checkbox'  checked><label for='section-a06590eb-3d99-4010-ac76-94ce8a428b74' class='xr-section-summary' >Attributes: <span>(1)</span></label><div class='xr-section-inline-details'></div><div class='xr-section-details'><dl class='xr-attrs'><dt><span>tag_id :</span></dt><dd>A19124</dd></dl></div></li></ul></div></div>"
      ],
      "text/plain": [
       "<xarray.Dataset>\n",
       "Dimensions:     (yi: 371, xi: 231)\n",
       "Coordinates:\n",
       "    latitude    (yi, xi) float32 46.0 46.0 46.0 46.0 ... 51.0 51.0 51.0 51.0\n",
       "    longitude   (yi, xi) float32 -8.0 -7.97 -7.939 ... -1.091 -1.061 -1.03\n",
       "Dimensions without coordinates: yi, xi\n",
       "Data variables:\n",
       "    H0          (yi, xi) float32 4.849e+03 4.846e+03 4.842e+03 ... nan nan nan\n",
       "    ocean_mask  (yi, xi) bool True True True True ... False False False False\n",
       "Attributes:\n",
       "    tag_id:   A19124"
      ]
     },
     "execution_count": 3,
     "metadata": {},
     "output_type": "execute_result"
    }
   ],
   "source": [
    "ds"
   ]
  },
  {
   "cell_type": "markdown",
   "id": "cf94e661-e097-485e-8df3-b44288502b18",
   "metadata": {},
   "source": [
    "## regridding does not work, so i'll just select the 'zone' for spcifing the 'valid' data\n",
    "#"
   ]
  },
  {
   "cell_type": "code",
   "execution_count": 7,
   "id": "eec09462-e4be-4d09-8b76-f5e40fb55087",
   "metadata": {},
   "outputs": [],
   "source": [
    "\n",
    "\n",
    "def filter_ds(data_array):\n",
    "\n",
    "    lat_min, lat_max = 47, 48\n",
    "    lon_min, lon_max = -3, -2\n",
    "    \n",
    "    # Filter data based on latitude and longitude ranges\n",
    "    filtered_data = data_array.where(\n",
    "        (data_array.latitude >= lat_min) & (data_array.latitude <= lat_max) &\n",
    "        (data_array.longitude >= lon_min) & (data_array.longitude <= lon_max),\n",
    "        drop=True\n",
    "    )\n",
    "\n",
    "    return filtered_data\n"
   ]
  },
  {
   "cell_type": "markdown",
   "id": "085f9960-7e91-49da-afa2-2c192398b754",
   "metadata": {},
   "source": [
    "## If the valid data zone ( lon -3,-2, and lat 47 48) without rotation, and with rotation is about the same (for the same nside) rotation is not destroying the equaly size healpix property (which was destroyed with the old rotation definition...) \n"
   ]
  },
  {
   "cell_type": "code",
   "execution_count": 5,
   "id": "1a72cdfe-96ef-4d02-bd89-63f402642add",
   "metadata": {},
   "outputs": [],
   "source": [
    "rot = {\"lat\": 0, \"lon\": 0}\n",
    "level=10"
   ]
  },
  {
   "cell_type": "code",
   "execution_count": 8,
   "id": "c92282a8-68e7-4dbd-8527-b6d3b049eefa",
   "metadata": {},
   "outputs": [
    {
     "name": "stdout",
     "output_type": "stream",
     "text": [
      "valid data number= <xarray.DataArray 'data' ()>\n",
      "array(214)\n",
      "Coordinates:\n",
      "    resolution  float64 0.0009993\n",
      "CPU times: user 23.1 s, sys: 1.4 s, total: 24.5 s\n",
      "Wall time: 3.27 s\n"
     ]
    },
    {
     "data": {
      "text/plain": [
       "<matplotlib.collections.QuadMesh at 0x7f5aabbdaa90>"
      ]
     },
     "execution_count": 8,
     "metadata": {},
     "output_type": "execute_result"
    },
    {
     "data": {
      "image/png": "[encoded data removed]",
      "text/plain": [
       "<Figure size 640x480 with 2 Axes>"
      ]
     },
     "metadata": {},
     "output_type": "display_data"
    }
   ],
   "source": [
    "%%time\n",
    "\n",
    "grid = HealpyGridInfo(level=level, rot=rot)\n",
    "target_0 = grid.target_grid(ds)\n",
    "data_0 = grid.to_2d(xr.zeros_like(target_0[\"longitude\"]).rename(\"data\"))\n",
    "\n",
    "filterd_0=filter_ds(data_0)\n",
    "\n",
    "print('valid data number=',filterd_0.count())\n",
    "filterd_0.plot(y='latitude',x='longitude')"
   ]
  },
  {
   "cell_type": "code",
   "execution_count": 9,
   "id": "bf4390a1-0d97-467b-8b1f-e4d95268c50b",
   "metadata": {},
   "outputs": [
    {
     "data": {
      "text/plain": [
       "<matplotlib.collections.QuadMesh at 0x7f5aaba65b10>"
      ]
     },
     "execution_count": 9,
     "metadata": {},
     "output_type": "execute_result"
    },
    {
     "data": {
      "image/png": "[encoded data removed]",
      "text/plain": [
       "<Figure size 640x480 with 2 Axes>"
      ]
     },
     "metadata": {},
     "output_type": "display_data"
    }
   ],
   "source": [
    "data_0.plot(y='latitude',x='longitude')"
   ]
  },
  {
   "cell_type": "code",
   "execution_count": 17,
   "id": "ee7cbcfc-810c-4f93-a713-7a15f34666be",
   "metadata": {
    "tags": []
   },
   "outputs": [
    {
     "name": "stdout",
     "output_type": "stream",
     "text": [
      "valid data number= <xarray.DataArray 'data' ()>\n",
      "array(213)\n",
      "Coordinates:\n",
      "    resolution  float64 0.0009993\n"
     ]
    },
    {
     "data": {
      "text/plain": [
       "<matplotlib.collections.QuadMesh at 0x7f5a7900b690>"
      ]
     },
     "execution_count": 17,
     "metadata": {},
     "output_type": "execute_result"
    },
    {
     "data": {
      "image/png": "[encoded data removed]",
      "text/plain": [
       "<Figure size 640x480 with 2 Axes>"
      ]
     },
     "metadata": {},
     "output_type": "display_data"
    }
   ],
   "source": [
    "rot = {\"lat\": 60, \"lon\": 30}\n",
    "rot = {\"lat\": 0, \"lon\": 30}\n",
    "rot = {\"lat\": -30, \"lon\": 0}\n",
    "\n",
    "#rot = {\"lat\": -30, \"lon\": 30}\n",
    "#ValueError: can only reshape for a single base pixel for now. Data covers base pixels [0, 4].\n",
    "\n",
    "\n",
    "grid = HealpyGridInfo(level=level, rot=rot)\n",
    "target = grid.target_grid(ds)\n",
    "\n",
    "data = grid.to_2d(xr.zeros_like(target[\"longitude\"]).rename(\"data\"))\n",
    "\n",
    "filterd=filter_ds(data)\n",
    "\n",
    "print('valid data number=',filterd.count())\n",
    "filterd.plot(y='latitude',x='longitude')"
   ]
  },
  {
   "cell_type": "code",
   "execution_count": 11,
   "id": "61a2f8ec-9c7b-416a-b0a9-e6fe844e8f5a",
   "metadata": {},
   "outputs": [
    {
     "data": {
      "text/plain": [
       "<matplotlib.collections.QuadMesh at 0x7f5aab9cdb10>"
      ]
     },
     "execution_count": 11,
     "metadata": {},
     "output_type": "execute_result"
    },
    {
     "data": {
      "image/png": "[encoded data removed]",
      "text/plain": [
       "<Figure size 640x480 with 2 Axes>"
      ]
     },
     "metadata": {},
     "output_type": "display_data"
    }
   ],
   "source": [
    "data.plot(y='latitude',x='longitude')"
   ]
  },
  {
   "cell_type": "markdown",
   "id": "6b6b536e-a7f2-4f00-97bb-6f1ffa51d5b2",
   "metadata": {},
   "source": [
    "# Conclusion\n",
    "\n",
    "The valid value is almost equal \n",
    "(nside=10,214, 206)\n",
    "\n",
    "i.e. The grid is rotating well.  \n",
    "\n",
    "##  test regridder \n",
    "HealpyRegridder crash with rotation.  "
   ]
  },
  {
   "cell_type": "code",
   "execution_count": 12,
   "id": "20172447-0948-4213-b3f3-886a92be2ead",
   "metadata": {},
   "outputs": [
    {
     "name": "stderr",
     "output_type": "stream",
     "text": [
      "/home/jovyan/xarray-healpy/xarray_healpy/interpolation/mask.py:22: RuntimeWarning: invalid value encountered in divide\n",
      "  return masked_weights / np.sum(masked_weights, axis=-1)[:, None]\n"
     ]
    },
    {
     "data": {
      "text/plain": [
       "HealpyRegridder(method='bilinear', interpolation_kwargs={'mask': 'ocean_mask'})"
      ]
     },
     "execution_count": 12,
     "metadata": {},
     "output_type": "execute_result"
    }
   ],
   "source": [
    "regridder = HealpyRegridder(\n",
    "    ds[[\"longitude\", \"latitude\", \"ocean_mask\"]],\n",
    "    target_0,\n",
    "    #method=\"bilinear\",\n",
    "    interpolation_kwargs={\"mask\": \"ocean_mask\",\n",
    "                         # \"min_vertices\": min_vertices\n",
    "                         },\n",
    ")\n",
    "regridder"
   ]
  },
  {
   "cell_type": "code",
   "execution_count": 13,
   "id": "3b81aa72-6737-4742-a71c-e70f9821070e",
   "metadata": {},
   "outputs": [
    {
     "ename": "ZeroDivisionError",
     "evalue": "division by zero",
     "output_type": "error",
     "traceback": [
      "\u001b[0;31m---------------------------------------------------------------------------\u001b[0m",
      "\u001b[0;31mZeroDivisionError\u001b[0m                         Traceback (most recent call last)",
      "Cell \u001b[0;32mIn[13], line 1\u001b[0m\n\u001b[0;32m----> 1\u001b[0m regridder \u001b[38;5;241m=\u001b[39m \u001b[43mHealpyRegridder\u001b[49m\u001b[43m(\u001b[49m\n\u001b[1;32m      2\u001b[0m \u001b[43m    \u001b[49m\u001b[43mds\u001b[49m\u001b[43m[\u001b[49m\u001b[43m[\u001b[49m\u001b[38;5;124;43m\"\u001b[39;49m\u001b[38;5;124;43mlongitude\u001b[39;49m\u001b[38;5;124;43m\"\u001b[39;49m\u001b[43m,\u001b[49m\u001b[43m \u001b[49m\u001b[38;5;124;43m\"\u001b[39;49m\u001b[38;5;124;43mlatitude\u001b[39;49m\u001b[38;5;124;43m\"\u001b[39;49m\u001b[43m,\u001b[49m\u001b[43m \u001b[49m\u001b[38;5;124;43m\"\u001b[39;49m\u001b[38;5;124;43mocean_mask\u001b[39;49m\u001b[38;5;124;43m\"\u001b[39;49m\u001b[43m]\u001b[49m\u001b[43m]\u001b[49m\u001b[43m,\u001b[49m\n\u001b[1;32m      3\u001b[0m \u001b[43m    \u001b[49m\u001b[43mtarget\u001b[49m\u001b[43m,\u001b[49m\n\u001b[1;32m      4\u001b[0m \u001b[43m    \u001b[49m\u001b[38;5;66;43;03m#method=\"bilinear\",\u001b[39;49;00m\n\u001b[1;32m      5\u001b[0m \u001b[43m    \u001b[49m\u001b[43minterpolation_kwargs\u001b[49m\u001b[38;5;241;43m=\u001b[39;49m\u001b[43m{\u001b[49m\u001b[38;5;124;43m\"\u001b[39;49m\u001b[38;5;124;43mmask\u001b[39;49m\u001b[38;5;124;43m\"\u001b[39;49m\u001b[43m:\u001b[49m\u001b[43m \u001b[49m\u001b[38;5;124;43m\"\u001b[39;49m\u001b[38;5;124;43mocean_mask\u001b[39;49m\u001b[38;5;124;43m\"\u001b[39;49m\u001b[43m,\u001b[49m\n\u001b[1;32m      6\u001b[0m \u001b[43m                         \u001b[49m\u001b[38;5;66;43;03m# \"min_vertices\": min_vertices\u001b[39;49;00m\n\u001b[1;32m      7\u001b[0m \u001b[43m                         \u001b[49m\u001b[43m}\u001b[49m\u001b[43m,\u001b[49m\n\u001b[1;32m      8\u001b[0m \u001b[43m)\u001b[49m\n\u001b[1;32m      9\u001b[0m regridder\n",
      "File \u001b[0;32m<string>:8\u001b[0m, in \u001b[0;36m__init__\u001b[0;34m(self, input_grid, output_grid, method, interpolation_kwargs, weights_path)\u001b[0m\n",
      "File \u001b[0;32m~/xarray-healpy/xarray_healpy/regridder.py:52\u001b[0m, in \u001b[0;36mHealpyRegridder.__post_init__\u001b[0;34m(self)\u001b[0m\n\u001b[1;32m     49\u001b[0m \u001b[38;5;28;01mif\u001b[39;00m interpolator \u001b[38;5;129;01mis\u001b[39;00m \u001b[38;5;28;01mNone\u001b[39;00m:\n\u001b[1;32m     50\u001b[0m     \u001b[38;5;28;01mraise\u001b[39;00m \u001b[38;5;167;01mValueError\u001b[39;00m(\u001b[38;5;124mf\u001b[39m\u001b[38;5;124m\"\u001b[39m\u001b[38;5;124munknown interpolation method: \u001b[39m\u001b[38;5;132;01m{\u001b[39;00m\u001b[38;5;28mself\u001b[39m\u001b[38;5;241m.\u001b[39mmethod\u001b[38;5;132;01m}\u001b[39;00m\u001b[38;5;124m\"\u001b[39m)\n\u001b[0;32m---> 52\u001b[0m \u001b[38;5;28mself\u001b[39m\u001b[38;5;241m.\u001b[39mweights \u001b[38;5;241m=\u001b[39m \u001b[43minterpolator\u001b[49m\u001b[43m(\u001b[49m\n\u001b[1;32m     53\u001b[0m \u001b[43m    \u001b[49m\u001b[38;5;28;43mself\u001b[39;49m\u001b[38;5;241;43m.\u001b[39;49m\u001b[43minput_grid\u001b[49m\u001b[43m,\u001b[49m\u001b[43m \u001b[49m\u001b[38;5;28;43mself\u001b[39;49m\u001b[38;5;241;43m.\u001b[39;49m\u001b[43moutput_grid\u001b[49m\u001b[43m,\u001b[49m\u001b[43m \u001b[49m\u001b[38;5;241;43m*\u001b[39;49m\u001b[38;5;241;43m*\u001b[39;49m\u001b[38;5;28;43mself\u001b[39;49m\u001b[38;5;241;43m.\u001b[39;49m\u001b[43minterpolation_kwargs\u001b[49m\n\u001b[1;32m     54\u001b[0m \u001b[43m\u001b[49m\u001b[43m)\u001b[49m\n",
      "File \u001b[0;32m~/xarray-healpy/xarray_healpy/interpolation/bilinear.py:204\u001b[0m, in \u001b[0;36mbilinear_interpolation_weights\u001b[0;34m(source_grid, target_grid, n_neighbors, metric, coords, mask, min_vertices)\u001b[0m\n\u001b[1;32m    201\u001b[0m _, neighbor_indices \u001b[38;5;241m=\u001b[39m tree\u001b[38;5;241m.\u001b[39mquery(target_coords, k\u001b[38;5;241m=\u001b[39mn_neighbors)\n\u001b[1;32m    203\u001b[0m \u001b[38;5;66;03m# compute the weights\u001b[39;00m\n\u001b[0;32m--> 204\u001b[0m raw_weights, surrounding_vertex_indices \u001b[38;5;241m=\u001b[39m \u001b[43m_compute_bilinear_interpolation_weights\u001b[49m\u001b[43m(\u001b[49m\n\u001b[1;32m    205\u001b[0m \u001b[43m    \u001b[49m\u001b[43mtarget_coords\u001b[49m\u001b[38;5;241;43m.\u001b[39;49m\u001b[43mastype\u001b[49m\u001b[43m(\u001b[49m\u001b[43mcommon_dtype\u001b[49m\u001b[43m)\u001b[49m\u001b[43m,\u001b[49m\n\u001b[1;32m    206\u001b[0m \u001b[43m    \u001b[49m\u001b[43msource_coords\u001b[49m\u001b[38;5;241;43m.\u001b[39;49m\u001b[43mastype\u001b[49m\u001b[43m(\u001b[49m\u001b[43mcommon_dtype\u001b[49m\u001b[43m)\u001b[49m\u001b[43m,\u001b[49m\n\u001b[1;32m    207\u001b[0m \u001b[43m    \u001b[49m\u001b[43mneighbor_indices\u001b[49m\u001b[43m,\u001b[49m\n\u001b[1;32m    208\u001b[0m \u001b[43m\u001b[49m\u001b[43m)\u001b[49m\n\u001b[1;32m    210\u001b[0m \u001b[38;5;28;01mif\u001b[39;00m mask \u001b[38;5;129;01mis\u001b[39;00m \u001b[38;5;129;01mnot\u001b[39;00m \u001b[38;5;28;01mNone\u001b[39;00m:\n\u001b[1;32m    211\u001b[0m     \u001b[38;5;28;01mif\u001b[39;00m \u001b[38;5;28misinstance\u001b[39m(mask, \u001b[38;5;28mstr\u001b[39m):\n",
      "\u001b[0;31mZeroDivisionError\u001b[0m: division by zero"
     ]
    }
   ],
   "source": [
    "regridder = HealpyRegridder(\n",
    "    ds[[\"longitude\", \"latitude\", \"ocean_mask\"]],\n",
    "    target,\n",
    "    #method=\"bilinear\",\n",
    "    interpolation_kwargs={\"mask\": \"ocean_mask\",\n",
    "                         # \"min_vertices\": min_vertices\n",
    "                         },\n",
    ")\n",
    "regridder"
   ]
  },
  {
   "cell_type": "code",
   "execution_count": null,
   "id": "b0060b1a-9d72-41f3-b98c-2ad7e9baf86e",
   "metadata": {},
   "outputs": [],
   "source": []
  }
 ],
 "metadata": {
  "kernelspec": {
   "display_name": "Python 3 (ipykernel)",
   "language": "python",
   "name": "python3"
  },
  "language_info": {
   "codemirror_mode": {
    "name": "ipython",
    "version": 3
   },
   "file_extension": ".py",
   "mimetype": "text/x-python",
   "name": "python",
   "nbconvert_exporter": "python",
   "pygments_lexer": "ipython3",
   "version": "3.11.7"
  }
 },
 "nbformat": 4,
 "nbformat_minor": 5
}
